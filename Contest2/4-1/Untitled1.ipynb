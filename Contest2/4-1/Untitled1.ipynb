{
 "cells": [
  {
   "cell_type": "code",
   "execution_count": 81,
   "metadata": {},
   "outputs": [],
   "source": [
    "import requests, bs4\n",
    "import pandas as pd\n",
    "from lxml import html\n",
    "from urllib.request import Request, urlopen\n",
    "from urllib.parse import urlencode, quote_plus, unquote\n",
    "\n",
    "# 1. URL 파라미터 분리하기.\n",
    "# Service URL\n",
    "xmlUrl = 'http://openapi.seoul.go.kr:8088/55746f57756b6472313131504b6f6755/xml/VolInfo/1/5/A-01/20160301/12/'\n",
    "\n",
    "response = requests.get(xmlUrl).text.encode('utf-8')\n",
    "xmlobj = bs4.BeautifulSoup(response, 'html.parser')"
   ]
  },
  {
   "cell_type": "code",
   "execution_count": 82,
   "metadata": {},
   "outputs": [
    {
     "data": {
      "text/plain": [
       "<?xml version=\"1.0\" encoding=\"UTF-8\" standalone=\"yes\"?><volinfo><list_total_count>4</list_total_count><result><code>INFO-000</code><message>정상 처리되었습니다</message></result><row><spot_num>A-01</spot_num><ymd>20160301</ymd><hh>12</hh><io_type>1</io_type><lane_num>1</lane_num><vol>807</vol></row><row><spot_num>A-01</spot_num><ymd>20160301</ymd><hh>12</hh><io_type>1</io_type><lane_num>2</lane_num><vol>972</vol></row><row><spot_num>A-01</spot_num><ymd>20160301</ymd><hh>12</hh><io_type>2</io_type><lane_num>3</lane_num><vol>796</vol></row><row><spot_num>A-01</spot_num><ymd>20160301</ymd><hh>12</hh><io_type>2</io_type><lane_num>4</lane_num><vol>711</vol></row></volinfo>"
      ]
     },
     "execution_count": 82,
     "metadata": {},
     "output_type": "execute_result"
    }
   ],
   "source": [
    "xmlobj"
   ]
  },
  {
   "cell_type": "code",
   "execution_count": null,
   "metadata": {},
   "outputs": [],
   "source": [
    "from tqdm import tqdm\n",
    "\n",
    "i = 0\n",
    "\n",
    "df = pd.DataFrame(columns=['statNm', 'statId', 'chgerld', 'chgerType', \n",
    "                           'addr', 'lat', 'lng', 'useTime',\n",
    "                           'busild','busiNm','busiCall', 'stat',\n",
    "                           'statUpdDt', 'powerTpye', 'output', 'method',\n",
    "                           'zcode', 'parkingFree', 'note', 'limitYn',\n",
    "                           'limitDetail', 'delYn', 'delDetail'])\n",
    "items = xmlobj.find(\"items\")\n",
    "for item in tqdm(items.findAll(\"item\")):\n",
    "    df.loc[i] = [item.statnm.text, item.statid.text, item.chgerid.text, item.chgertype.text,\n",
    "                 item.addr.text, item.lat.text, item.lng.text, item.usetime.text,\n",
    "                 item.busiid.text, item.businm.text, item.busicall.text,\n",
    "                 item.stat.text, item.statupddt.text, item.powertype.text,\n",
    "                 item.output.text, item.method.text, item.zcode.text,\n",
    "                 item.parkingfree.text, item.note.text, item.limityn.text,\n",
    "                 item.limitdetail.text, item.delyn.text, item.deldetail.text]\n",
    "    i += 1\n"
   ]
  }
 ],
 "metadata": {
  "kernelspec": {
   "display_name": "Python 3",
   "language": "python",
   "name": "python3"
  },
  "language_info": {
   "codemirror_mode": {
    "name": "ipython",
    "version": 3
   },
   "file_extension": ".py",
   "mimetype": "text/x-python",
   "name": "python",
   "nbconvert_exporter": "python",
   "pygments_lexer": "ipython3",
   "version": "3.8.8"
  }
 },
 "nbformat": 4,
 "nbformat_minor": 4
}
